{
 "cells": [
  {
   "cell_type": "code",
   "execution_count": 8,
   "metadata": {},
   "outputs": [
    {
     "name": "stdout",
     "output_type": "stream",
     "text": [
      "(162, 94249)\n"
     ]
    }
   ],
   "source": [
    "import scipy.io as sio\n",
    "import numpy as np \n",
    "import sys \n",
    "\n",
    "#145 145 220\n",
    "def main():\n",
    "    # See https://rslab.ut.ac.ir/data for information about this dataset (Urban)\n",
    "    hs_image = sio.loadmat(\"data/Urban_R162.mat\")\n",
    "    # print(type(hs_image))\n",
    "\n",
    "    # for key in hs_image:\n",
    "    #     print(key)\n",
    "\n",
    "    # Channels that are kept \n",
    "    # print(hs_image[\"SlectBands\"])\n",
    "\n",
    "    # Size of image \n",
    "    # print(hs_image[\"nRow\"])\n",
    "    # print(hs_image[\"nCol\"])\n",
    "\n",
    "    # Number of wavelengths \n",
    "    # print(hs_image[\"nBand\"])\n",
    "\n",
    "    # Matrix itself \n",
    "    # print(hs_image[\"Y\"])\n",
    "\n",
    "    # Not sure what this mean \n",
    "    # print(hs_image[\"maxValue\"])\n",
    "\n",
    "    \n",
    "    matrix = np.array(hs_image[\"Y\"])\n",
    "\n",
    "    # Each row correspond to a channel/wavelength and the image is vectorized as a row vector (I am not sure how it is being flatten) \n",
    "    # I am not sure what the value in the matrix mean. They range from 0 to 1000. I am guessing it is how much is captured by a particular channel after normalization  \n",
    "    print(matrix.shape)\n",
    "\n",
    "    \n",
    "\n",
    "main()"
   ]
  }
 ],
 "metadata": {
  "kernelspec": {
   "display_name": "ucla-math-reu",
   "language": "python",
   "name": "python3"
  },
  "language_info": {
   "codemirror_mode": {
    "name": "ipython",
    "version": 3
   },
   "file_extension": ".py",
   "mimetype": "text/x-python",
   "name": "python",
   "nbconvert_exporter": "python",
   "pygments_lexer": "ipython3",
   "version": "3.11.4"
  }
 },
 "nbformat": 4,
 "nbformat_minor": 2
}
