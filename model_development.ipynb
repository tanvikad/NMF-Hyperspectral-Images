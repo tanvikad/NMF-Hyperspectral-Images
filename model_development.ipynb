{
 "cells": [
  {
   "cell_type": "code",
   "execution_count": 1,
   "metadata": {},
   "outputs": [
    {
     "ename": "ModuleNotFoundError",
     "evalue": "No module named 'scipy'",
     "output_type": "error",
     "traceback": [
      "\u001b[1;31m---------------------------------------------------------------------------\u001b[0m",
      "\u001b[1;31mModuleNotFoundError\u001b[0m                       Traceback (most recent call last)",
      "\u001b[1;32mc:\\Users\\Kevin Phan\\Desktop\\Senior Year\\NMF-Hyperspectral-Images\\model_development.ipynb Cell 1\u001b[0m line \u001b[0;36m1\n\u001b[1;32m----> <a href='vscode-notebook-cell:/c%3A/Users/Kevin%20Phan/Desktop/Senior%20Year/NMF-Hyperspectral-Images/model_development.ipynb#W0sZmlsZQ%3D%3D?line=0'>1</a>\u001b[0m \u001b[39mimport\u001b[39;00m \u001b[39mscipy\u001b[39;00m\u001b[39m.\u001b[39;00m\u001b[39mio\u001b[39;00m \u001b[39mas\u001b[39;00m \u001b[39msio\u001b[39;00m\n\u001b[0;32m      <a href='vscode-notebook-cell:/c%3A/Users/Kevin%20Phan/Desktop/Senior%20Year/NMF-Hyperspectral-Images/model_development.ipynb#W0sZmlsZQ%3D%3D?line=1'>2</a>\u001b[0m \u001b[39mimport\u001b[39;00m \u001b[39mnumpy\u001b[39;00m \u001b[39mas\u001b[39;00m \u001b[39mnp\u001b[39;00m \n\u001b[0;32m      <a href='vscode-notebook-cell:/c%3A/Users/Kevin%20Phan/Desktop/Senior%20Year/NMF-Hyperspectral-Images/model_development.ipynb#W0sZmlsZQ%3D%3D?line=2'>3</a>\u001b[0m \u001b[39mimport\u001b[39;00m \u001b[39msys\u001b[39;00m \n",
      "\u001b[1;31mModuleNotFoundError\u001b[0m: No module named 'scipy'"
     ]
    }
   ],
   "source": [
    "import scipy.io as sio\n",
    "import numpy as np \n",
    "import sys \n",
    "from matplotlib import pyplot as plt\n",
    "from numba import jit\n",
    "from sklearn.metrics import mean_squared_error\n",
    "from sklearn.decomposition import NMF\n",
    "import itertools"
   ]
  },
  {
   "cell_type": "code",
   "execution_count": null,
   "metadata": {},
   "outputs": [],
   "source": [
    "@jit(nopython=True, parallel=True)\n",
    "def nmf_hs(X, delta, iters, components):\n",
    "    (rows, cols) = X.shape\n",
    "    A = np.random.rand(rows, components)\n",
    "    S = np.random.rand(components, cols)\n",
    "    all_delta_X = delta * np.ones((1, cols))\n",
    "    all_delta_A = delta * np.ones((1, components))\n",
    "    X_bar = np.vstack((X, all_delta_X))\n",
    "    for _ in range(0, iters):\n",
    "        A = A * (X @ np.transpose(S)) / (A @ S @ np.transpose(S))\n",
    "        A_bar = np.vstack((A, all_delta_A))\n",
    "        S = S * (np.transpose(A_bar) @ X_bar) / (np.transpose(A_bar) @ A_bar @ S)\n",
    "        print(np.linalg.norm(X - A @ S))\n",
    "    error = (np.linalg.norm(X - A @ S))\n",
    "    return A, S, error "
   ]
  },
  {
   "cell_type": "code",
   "execution_count": 14,
   "metadata": {},
   "outputs": [
    {
     "ename": "NameError",
     "evalue": "name 'jit' is not defined",
     "output_type": "error",
     "traceback": [
      "\u001b[1;31m---------------------------------------------------------------------------\u001b[0m",
      "\u001b[1;31mNameError\u001b[0m                                 Traceback (most recent call last)",
      "\u001b[1;32mc:\\Users\\Kevin Phan\\Desktop\\Senior Year\\NMF-Hyperspectral-Images\\model_development.ipynb Cell 3\u001b[0m line \u001b[0;36m1\n\u001b[1;32m----> <a href='vscode-notebook-cell:/c%3A/Users/Kevin%20Phan/Desktop/Senior%20Year/NMF-Hyperspectral-Images/model_development.ipynb#W2sZmlsZQ%3D%3D?line=0'>1</a>\u001b[0m \u001b[39m@jit\u001b[39m(nopython\u001b[39m=\u001b[39m\u001b[39mTrue\u001b[39;00m, parallel\u001b[39m=\u001b[39m\u001b[39mTrue\u001b[39;00m)\n\u001b[0;32m      <a href='vscode-notebook-cell:/c%3A/Users/Kevin%20Phan/Desktop/Senior%20Year/NMF-Hyperspectral-Images/model_development.ipynb#W2sZmlsZQ%3D%3D?line=1'>2</a>\u001b[0m \u001b[39mdef\u001b[39;00m \u001b[39mnmf_hs_l1_2\u001b[39m(X, delta, lambd, iters, components):\n\u001b[0;32m      <a href='vscode-notebook-cell:/c%3A/Users/Kevin%20Phan/Desktop/Senior%20Year/NMF-Hyperspectral-Images/model_development.ipynb#W2sZmlsZQ%3D%3D?line=2'>3</a>\u001b[0m     (rows, cols) \u001b[39m=\u001b[39m X\u001b[39m.\u001b[39mshape\n\u001b[0;32m      <a href='vscode-notebook-cell:/c%3A/Users/Kevin%20Phan/Desktop/Senior%20Year/NMF-Hyperspectral-Images/model_development.ipynb#W2sZmlsZQ%3D%3D?line=3'>4</a>\u001b[0m     \u001b[39m# Initialize A and S\u001b[39;00m\n",
      "\u001b[1;31mNameError\u001b[0m: name 'jit' is not defined"
     ]
    }
   ],
   "source": [
    "@jit(nopython=True, parallel=True)\n",
    "def nmf_hs_l1_2(X, delta, lambd, iters, components):\n",
    "    (rows, cols) = X.shape\n",
    "    # Initialize A and S\n",
    "    A = np.random.rand(rows, components)\n",
    "    S = np.random.rand(components, cols)\n",
    "    for i in range(cols):\n",
    "        magn = np.linalg.norm(S[:,i])\n",
    "        S[:,i] = S[:,i] / magn\n",
    "\n",
    "    all_delta_X = delta * np.ones((1, cols))\n",
    "    all_delta_A = delta * np.ones((1, components))\n",
    "    X_f = np.vstack((X, all_delta_X))\n",
    "    for _ in range(0, iters):\n",
    "        A_f = np.vstack((A, all_delta_A))\n",
    "        A = A * (X @ np.transpose(S)) / (A @ S @ np.transpose(S))\n",
    "        S = S * (np.transpose(A_f) @ X_f) / (np.transpose(A_f) @ A_f @ S + (lambd / 2) * np.sum(np.sqrt(S + 1e-6)))\n",
    "    error = (np.linalg.norm(X - A @ S))\n",
    "    return A, S, error "
   ]
  },
  {
   "cell_type": "code",
   "execution_count": 13,
   "metadata": {},
   "outputs": [
    {
     "name": "stdout",
     "output_type": "stream",
     "text": [
      "51.0\n"
     ]
    }
   ],
   "source": [
    "S = np.array([[1.0,2.0,3.0], [4.0,5.0,6.0]]) + 5.0\n",
    "# magn = np.linalg.norm(S[:,1])\n",
    "# S[:,1] = S[:,1] / magn\n",
    "print(np.sum(S))"
   ]
  }
 ],
 "metadata": {
  "kernelspec": {
   "display_name": "ucla-math-reu",
   "language": "python",
   "name": "python3"
  },
  "language_info": {
   "codemirror_mode": {
    "name": "ipython",
    "version": 3
   },
   "file_extension": ".py",
   "mimetype": "text/x-python",
   "name": "python",
   "nbconvert_exporter": "python",
   "pygments_lexer": "ipython3",
   "version": "3.10.11"
  }
 },
 "nbformat": 4,
 "nbformat_minor": 2
}
